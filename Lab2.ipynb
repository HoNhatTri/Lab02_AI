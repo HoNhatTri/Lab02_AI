{
 "cells": [
  {
   "cell_type": "markdown",
   "metadata": {},
   "source": [
    "# Import Required Libraries\n",
    "Import the necessary libraries, including NumPy, Pandas, Matplotlib, Seaborn, and Scikit-learn."
   ]
  },
  {
   "cell_type": "code",
   "execution_count": null,
   "metadata": {},
   "outputs": [],
   "source": [
    "# Import the necessary libraries\n",
    "import numpy as np\n",
    "import pandas as pd\n",
    "import matplotlib.pyplot as plt\n",
    "import seaborn as sns\n",
    "from sklearn.tree import DecisionTreeClassifier\n",
    "from sklearn.metrics import classification_report, confusion_matrix"
   ]
  },
  {
   "cell_type": "markdown",
   "metadata": {},
   "source": [
    "# Define Helper Functions\n",
    "Define the helper functions such as evaluate_decision_tree, classification_report, and confusion_matrix."
   ]
  },
  {
   "cell_type": "code",
   "execution_count": null,
   "metadata": {},
   "outputs": [],
   "source": [
    "# Define Helper Functions\n",
    "\n",
    "def evaluate_decision_tree(dataset, class_names, dataset_name, splits=[70]):\n",
    "    \"\"\"\n",
    "    Evaluate a decision tree classifier on a given dataset.\n",
    "    \n",
    "    Parameters:\n",
    "    - dataset: The dataset to evaluate.\n",
    "    - class_names: The names of the classes.\n",
    "    - dataset_name: The name of the dataset.\n",
    "    - split: The percentage of data to use for training (default is 70).\n",
    "    \"\"\"\n",
    "    for split in splits:\n",
    "        # Split the dataset into training and testing sets\n",
    "        train_size = int(len(dataset) * split / 100)\n",
    "        train_data = dataset[:train_size]\n",
    "        test_data = dataset[train_size:]\n",
    "        \n",
    "        # Separate features and labels\n",
    "        train_features = train_data[:, :-1]\n",
    "        train_labels = train_data[:, -1]\n",
    "        test_features = test_data[:, :-1]\n",
    "        test_labels = test_data[:, -1]\n",
    "        \n",
    "        # Train the decision tree classifier\n",
    "        clf = DecisionTreeClassifier()\n",
    "        clf.fit(train_features, train_labels)\n",
    "        \n",
    "        # Make predictions on the test set\n",
    "        pred_labels = clf.predict(test_features)\n",
    "        \n",
    "        # Print the classification report\n",
    "        print(f\"\\nClassification Report for {dataset_name} ({split}/{100 - int(split)} Split):\")\n",
    "        print(classification_report(test_labels, pred_labels, target_names=class_names))\n",
    "        \n",
    "        # Create confusion matrix\n",
    "        cm = confusion_matrix(test_labels, pred_labels)\n",
    "        plt.figure(figsize=(6, 4))\n",
    "        sns.heatmap(cm, annot=True, fmt=\"d\", cmap=\"Blues\", xticklabels=class_names, yticklabels=class_names)\n",
    "        plt.title(f\"Confusion Matrix for {dataset_name} ({split}/{100 - int(split)} Split)\")\n",
    "        plt.xlabel(\"Predicted\")\n",
    "        plt.ylabel(\"Actual\")\n",
    "        plt.show()"
   ]
  },
  {
   "cell_type": "markdown",
   "metadata": {},
   "source": [
    "# Load Datasets\n",
    "Load the datasets for Breast Cancer, White Wine Quality, Red Wine Quality, and Titanic."
   ]
  },
  {
   "cell_type": "code",
   "execution_count": null,
   "metadata": {},
   "outputs": [],
   "source": [
    "# Load Datasets\n",
    "\n",
    "# Load the Breast Cancer dataset\n",
    "bc_datasets = pd.read_csv('breast_cancer.csv').values\n",
    "class_names_bc = ['Benign', 'Malignant']\n",
    "\n",
    "# Load the White Wine Quality dataset\n",
    "w_wine_datasets = pd.read_csv('white_wine_quality.csv').values\n",
    "\n",
    "# Load the Red Wine Quality dataset\n",
    "r_wine_datasets = pd.read_csv('red_wine_quality.csv').values\n",
    "\n",
    "# Load the Titanic dataset\n",
    "titanic_datasets = pd.read_csv('titanic.csv').values\n",
    "class_names_titanic = ['Not Survived', 'Survived']"
   ]
  },
  {
   "cell_type": "markdown",
   "metadata": {},
   "source": [
    "# Evaluate Decision Tree on Breast Cancer Dataset\n",
    "Evaluate the decision tree on the Breast Cancer dataset and display the classification report and confusion matrix."
   ]
  },
  {
   "cell_type": "code",
   "execution_count": null,
   "metadata": {},
   "outputs": [],
   "source": [
    "# Evaluate Decision Tree on Breast Cancer Dataset\n",
    "\n",
    "# Evaluate the decision tree on the Breast Cancer dataset and display the classification report and confusion matrix.\n",
    "evaluate_decision_tree(bc_datasets, class_names_bc, \"Breast Cancer\", splits=[40, 60, 80, 90])"
   ]
  },
  {
   "cell_type": "markdown",
   "metadata": {},
   "source": [
    "# Evaluate Decision Tree on White Wine Quality Dataset\n",
    "Evaluate the decision tree on the White Wine Quality dataset and display the classification report and confusion matrix."
   ]
  },
  {
   "cell_type": "code",
   "execution_count": null,
   "metadata": {},
   "outputs": [],
   "source": [
    "# Evaluate Decision Tree on White Wine Quality Dataset\n",
    "\n",
    "# Define class names for White Wine Quality dataset\n",
    "class_names_white_wine = [\"Low\", \"Standard\", \"High\"]\n",
    "\n",
    "# Evaluate the decision tree on the White Wine Quality dataset and display the classification report and confusion matrix.\n",
    "evaluate_decision_tree(w_wine_datasets, class_names_white_wine, \"White Wine Quality\", splits=[40, 60, 80, 90])"
   ]
  },
  {
   "cell_type": "markdown",
   "metadata": {},
   "source": [
    "# Evaluate Decision Tree on Red Wine Quality Dataset\n",
    "Evaluate the decision tree on the Red Wine Quality dataset and display the classification report and confusion matrix."
   ]
  },
  {
   "cell_type": "code",
   "execution_count": null,
   "metadata": {},
   "outputs": [],
   "source": [
    "# Evaluate Decision Tree on Red Wine Quality Dataset\n",
    "\n",
    "# Define class names for Red Wine Quality dataset\n",
    "class_names_red_wine = [\"Low\", \"Standard\", \"High\"]\n",
    "\n",
    "# Evaluate the decision tree on the Red Wine Quality dataset and display the classification report and confusion matrix.\n",
    "evaluate_decision_tree(r_wine_datasets, class_names_red_wine, \"Red Wine Quality\", splits=[40, 60, 80, 90])"
   ]
  },
  {
   "cell_type": "markdown",
   "metadata": {},
   "source": [
    "# Evaluate Decision Tree on Titanic Dataset\n",
    "Evaluate the decision tree on the Titanic dataset and display the classification report and confusion matrix."
   ]
  },
  {
   "cell_type": "code",
   "execution_count": null,
   "metadata": {},
   "outputs": [],
   "source": [
    "# Evaluate Decision Tree on Titanic Dataset\n",
    "\n",
    "# Evaluate the decision tree on the Titanic dataset and display the classification report and confusion matrix.\n",
    "evaluate_decision_tree(titanic_datasets, class_names_titanic, \"Titanic\", splits=[40, 60, 80, 90])"
   ]
  }
 ],
 "metadata": {
  "language_info": {
   "name": "python"
  }
 },
 "nbformat": 4,
 "nbformat_minor": 2
}
